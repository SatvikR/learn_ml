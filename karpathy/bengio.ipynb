{
 "cells": [
  {
   "cell_type": "markdown",
   "metadata": {},
   "source": [
    "### Breaking away from Karapthy to try to implement the MLP paper myself. This is 2 decade old tech so hopefully it's not so difficult!"
   ]
  },
  {
   "cell_type": "code",
   "execution_count": 1,
   "metadata": {},
   "outputs": [],
   "source": [
    "import math\n",
    "import numpy as np\n",
    "import matplotlib.pyplot as plt\n",
    "import random\n",
    "%matplotlib inline"
   ]
  },
  {
   "cell_type": "code",
   "execution_count": 2,
   "metadata": {},
   "outputs": [],
   "source": [
    "import torch\n",
    "import torch.nn as nn\n",
    "from torch.nn import functional as F\n",
    "from torch.utils.data import Dataset\n",
    "from torch.utils.data.dataloader import DataLoader"
   ]
  },
  {
   "cell_type": "code",
   "execution_count": 3,
   "metadata": {},
   "outputs": [],
   "source": [
    "# FIRST, i'll try to re-create makemore-1's 1 layer NN in pytorch. I have no idea what I'm doing (reading docs!)\n",
    "class Bigram(nn.Module):\n",
    "    def __init__(self):\n",
    "        super().__init__()\n",
    "        self.W = nn.Parameter(torch.randn((27, 27)))\n",
    "\n",
    "    def forward(self, x_enc, ys=None):\n",
    "        # xs --> input characters encoded with one_hot encoding\n",
    "        # ys --> output characters for every x (not encoded)\n",
    "        logits = x_enc @ self.W\n",
    "        prob = F.softmax(logits, dim=1)\n",
    "        # loss = mean negative log probability of the correct letter (ys) following the input\n",
    "        if self.training:\n",
    "            loss = -prob[torch.arange(x_enc.size(0)), ys].log().mean() \n",
    "            return logits, loss\n",
    "        return logits, None"
   ]
  },
  {
   "cell_type": "code",
   "execution_count": 4,
   "metadata": {},
   "outputs": [],
   "source": [
    "device = torch.device(\"mps\") if torch.backends.mps.is_available() else torch.device(\"cpu\")"
   ]
  },
  {
   "cell_type": "code",
   "execution_count": 5,
   "metadata": {},
   "outputs": [],
   "source": [
    "# data\n",
    "words = open('names.txt', 'r').read().splitlines()\n",
    "chars = sorted(list(set(''.join(words))))\n",
    "stoi = {s:i+1 for i, s in enumerate(chars)}\n",
    "stoi['.'] = 0\n",
    "itos = {i:s for s, i in stoi.items()}\n",
    "xs, ys = [], []\n",
    "for w in words:\n",
    "    chs = ['.'] + list(w) + ['.']\n",
    "    for ch1, ch2 in zip(chs, chs[1:]):\n",
    "        x, y = stoi[ch1], stoi[ch2]\n",
    "        xs.append(x)\n",
    "        ys.append(y)\n",
    "xs, ys = torch.tensor(xs, device=device), torch.tensor(ys, device=device)\n",
    "x_enc = F.one_hot(xs, num_classes=27).float()"
   ]
  },
  {
   "cell_type": "code",
   "execution_count": 6,
   "metadata": {},
   "outputs": [
    {
     "name": "stdout",
     "output_type": "stream",
     "text": [
      "tensor(2.4736, device='mps:0')\n"
     ]
    },
    {
     "data": {
      "text/plain": [
       "Bigram()"
      ]
     },
     "execution_count": 6,
     "metadata": {},
     "output_type": "execute_result"
    }
   ],
   "source": [
    "# training\n",
    "bigram = Bigram()\n",
    "bigram.to(device)\n",
    "\n",
    "optimizer = torch.optim.SGD(bigram.parameters(), lr=50, weight_decay=0.0, momentum=0.0)\n",
    "\n",
    "loss = None\n",
    "for _ in range(100):\n",
    "    _, loss = bigram.forward(x_enc, ys)\n",
    "    bigram.zero_grad()\n",
    "    loss.backward()\n",
    "    optimizer.step()\n",
    "print(loss.data)\n",
    "bigram.eval()\n",
    "\n"
   ]
  },
  {
   "cell_type": "code",
   "execution_count": 7,
   "metadata": {},
   "outputs": [
    {
     "name": "stdout",
     "output_type": "stream",
     "text": [
      "daima.\n",
      "sason.\n",
      "odqush.\n",
      "jarascevonn.\n",
      "ehirulystz.\n",
      "ceyn.\n",
      "th.\n",
      "kyn.\n",
      "coromarikorimolirrasi.\n",
      "k.\n",
      "ayanedin.\n",
      "eillanyupeeke.\n",
      "ka.\n",
      "horly.\n",
      "kyiavy.\n",
      "be.\n",
      "rilelleal.\n",
      "qudigmodan.\n",
      "jariyliler.\n",
      "onalydan.\n"
     ]
    }
   ],
   "source": [
    "# test\n",
    "g = torch.Generator(device=device).manual_seed(2147483647)\n",
    "for _ in range(20):\n",
    "    out = []\n",
    "    ix = 0\n",
    "    while True:\n",
    "        input_char = F.one_hot(torch.tensor([ix], device=device), num_classes=27).float()\n",
    "        logits, _ = bigram.forward(input_char)\n",
    "        prob = F.softmax(logits, dim=1)\n",
    "        ix = torch.multinomial(prob, 1, replacement=True, generator=g).item()\n",
    "        out.append(itos[ix])\n",
    "        if ix == 0:\n",
    "            break\n",
    "    print(''.join(out))\n",
    "    "
   ]
  },
  {
   "cell_type": "code",
   "execution_count": 8,
   "metadata": {},
   "outputs": [],
   "source": [
    "class MLP(nn.Module):\n",
    "    # m --> numnber of features\n",
    "    # n --> context size\n",
    "    # h --> number of hidden units\n",
    "    def __init__(self, m, n, h):\n",
    "        super().__init__()\n",
    "        self.C = nn.Embedding(27, m)\n",
    "        self.mlp = nn.Sequential(\n",
    "            nn.Linear(m * n, h),\n",
    "            nn.Tanh(),\n",
    "            nn.Linear(h, 27)\n",
    "        )\n",
    "        self.m = m\n",
    "        self.n = n\n",
    "        self.h = h\n",
    "\n",
    "    def forward(self, xs, ys=None):\n",
    "        features = self.C(xs).view((-1, self.m * self.n))\n",
    "        logits = self.mlp(features)\n",
    "        prob = F.softmax(logits, dim=1)\n",
    "\n",
    "        if self.training:\n",
    "            loss = -prob[torch.arange(xs.size(0)), ys].log().mean()\n",
    "            return logits, loss\n",
    "        return logits, None"
   ]
  },
  {
   "cell_type": "code",
   "execution_count": 9,
   "metadata": {},
   "outputs": [
    {
     "name": "stdout",
     "output_type": "stream",
     "text": [
      "tensor([[[ 0,  1,  2,  3],\n",
      "         [ 4,  5,  6,  7]],\n",
      "\n",
      "        [[ 8,  9, 10, 11],\n",
      "         [12, 13, 14, 15]],\n",
      "\n",
      "        [[16, 17, 18, 19],\n",
      "         [20, 21, 22, 23]]])\n",
      "tensor([[ 0,  1,  2,  3,  4,  5,  6,  7],\n",
      "        [ 8,  9, 10, 11, 12, 13, 14, 15],\n",
      "        [16, 17, 18, 19, 20, 21, 22, 23]])\n"
     ]
    }
   ],
   "source": [
    "t = torch.arange(3 * 2 * 4).reshape((3, 2, 4))\n",
    "print(t)\n",
    "t = t.reshape((3, 8))\n",
    "print(t)"
   ]
  },
  {
   "cell_type": "code",
   "execution_count": 10,
   "metadata": {},
   "outputs": [
    {
     "name": "stdout",
     "output_type": "stream",
     "text": [
      "xs=tensor([[ 0,  0,  0],\n",
      "        [ 0,  0,  5],\n",
      "        [ 0,  5, 13],\n",
      "        ...,\n",
      "        [26, 26, 25],\n",
      "        [26, 25, 26],\n",
      "        [25, 26, 24]], device='mps:0')\n",
      "ys=tensor([ 5, 13, 13,  ..., 26, 24,  0], device='mps:0')\n",
      "torch.Size([228146, 3])\n"
     ]
    }
   ],
   "source": [
    "# create dataset\n",
    "xs = []\n",
    "ys = []\n",
    "for word in words:\n",
    "    chrs = ['.', '.', '.'] + list(word) + ['.']\n",
    "    for i in range(3, len(chrs)):\n",
    "        x = [stoi[c] for c in chrs[i-3:i]]\n",
    "        y = stoi[chrs[i]]\n",
    "        xs.append(x)\n",
    "        ys.append(y)\n",
    "xs = torch.tensor(xs).to(device=device)\n",
    "ys = torch.tensor(ys).to(device=device)\n",
    "print(f'{xs=}')\n",
    "print(f'{ys=}')\n",
    "print(xs.shape)"
   ]
  },
  {
   "cell_type": "code",
   "execution_count": 11,
   "metadata": {},
   "outputs": [
    {
     "name": "stdout",
     "output_type": "stream",
     "text": [
      "torch.Size([228146, 30])\n"
     ]
    },
    {
     "data": {
      "text/plain": [
       "tensor(3.3454, grad_fn=<NegBackward0>)"
      ]
     },
     "execution_count": 11,
     "metadata": {},
     "output_type": "execute_result"
    }
   ],
   "source": [
    "# NOW, back to Bengio et. al\n",
    "ix = xs.to('cpu')\n",
    "iy = ys.to('cpu')\n",
    "C = nn.Embedding(27, 10) # we are storing 10 \"features\" on each character\n",
    "hidden = nn.Linear(30, 60)\n",
    "tanh = nn.Tanh()\n",
    "output = nn.Linear(60, 27)\n",
    "features = C(ix).view(-1, 30)\n",
    "print(features.shape)\n",
    "hidden_applied = hidden(features)\n",
    "logits = output(tanh(hidden_applied))\n",
    "prob = F.softmax(logits, dim=1)\n",
    "loss = -prob[torch.arange(ix.size(0)), iy].log().mean()\n",
    "loss"
   ]
  },
  {
   "cell_type": "code",
   "execution_count": 232,
   "metadata": {},
   "outputs": [
    {
     "data": {
      "text/plain": [
       "tensor([[ 1,  3, 11],\n",
       "        [ 9, 25,  1],\n",
       "        [ 0, 14,  9],\n",
       "        [ 0,  0,  0],\n",
       "        [ 0, 10,  1],\n",
       "        [ 0,  0,  0],\n",
       "        [ 0,  0,  1],\n",
       "        [12, 25, 14],\n",
       "        [ 4,  1, 19],\n",
       "        [ 1, 14,  7],\n",
       "        [12, 25, 14],\n",
       "        [ 0,  0,  2],\n",
       "        [ 5,  4, 18],\n",
       "        [ 9, 15, 14],\n",
       "        [ 0, 11,  5],\n",
       "        [18,  9, 11],\n",
       "        [ 0,  0,  5],\n",
       "        [ 0,  0,  0],\n",
       "        [ 0, 16,  1],\n",
       "        [18,  9,  5],\n",
       "        [ 0,  0,  2],\n",
       "        [ 1,  8,  5],\n",
       "        [12, 15, 18],\n",
       "        [ 1,  1, 22],\n",
       "        [ 0,  0,  0],\n",
       "        [20, 20, 15],\n",
       "        [ 0,  0,  0],\n",
       "        [12, 25, 19],\n",
       "        [ 7,  1, 14],\n",
       "        [ 5,  5, 14],\n",
       "        [14, 14,  5],\n",
       "        [ 0,  0,  0]], device='mps:0')"
      ]
     },
     "execution_count": 232,
     "metadata": {},
     "output_type": "execute_result"
    }
   ],
   "source": [
    "xs[torch.randint(0, xs.size(0), (32,))]"
   ]
  },
  {
   "cell_type": "code",
   "execution_count": 20,
   "metadata": {},
   "outputs": [],
   "source": [
    "batch_time = []\n",
    "forward_time = []\n",
    "zero_grad_time = []\n",
    "backward_time = []\n",
    "optimizer_time = []\n",
    "\n",
    "mps_batch_time = []\n",
    "mps_forward_time = []\n",
    "mps_zero_grad_time = []\n",
    "mps_backward_time = []\n",
    "mps_optimizer_time = []"
   ]
  },
  {
   "cell_type": "code",
   "execution_count": 22,
   "metadata": {},
   "outputs": [
    {
     "name": "stdout",
     "output_type": "stream",
     "text": [
      "tensor(2.2765, device='mps:0')\n"
     ]
    }
   ],
   "source": [
    "import time\n",
    "from datetime import timedelta\n",
    "# initialize model\n",
    "mps = torch.device('mps')\n",
    "cpu = torch.device('cpu')\n",
    "device = mps\n",
    "xs = xs.to(cpu)\n",
    "ys = ys.to(cpu)\n",
    "mlp = MLP(10, 3, 200).to(device=device)\n",
    "\n",
    "# Warm-up\n",
    "for _ in range(100):\n",
    "    torch.matmul(torch.rand(500,500).to(device), torch.rand(500,500).to(device))\n",
    "# train\n",
    "optimizer = torch.optim.SGD(mlp.parameters(), lr=0.01, momentum=0.9, weight_decay=5e-4)\n",
    "mlp.train()\n",
    "\n",
    "loss = None\n",
    "start_time = time.time()\n",
    "\n",
    "for epoch in range(50_000):\n",
    "    # minibatch\n",
    "    s = time.time()\n",
    "    batch = torch.randint(0, xs.size(0), (32,))\n",
    "    # mps_batch_time.append(time.time() - s);   s = time.time()\n",
    "    ix = xs[batch].to(mps)\n",
    "    iy = ys[batch].to(mps)\n",
    "    _, loss = mlp.forward(xs[batch], ys[batch])\n",
    "    # mps_forward_time.append(time.time() - s); s = time.time()\n",
    "\n",
    "    mlp.zero_grad()\n",
    "    # mps_zero_grad_time.append(time.time() - s); s = time.time()\n",
    "    loss.backward()\n",
    "    # mps_backward_time.append(time.time() - s); s = time.time()\n",
    "\n",
    "    optimizer.step()\n",
    "    # mps_optimizer_time.append(time.time() - s); s = time.time()\n",
    "    if epoch % 10000 == 0:\n",
    "        time_elapsed = timedelta(seconds=int(time.time() - start_time))\n",
    "        print(f'epoch: {epoch}\\t\\t time: {time_elapsed}\\t\\t loss: {loss.item()}')\n",
    "print(loss.data)\n"
   ]
  },
  {
   "cell_type": "code",
   "execution_count": 270,
   "metadata": {},
   "outputs": [
    {
     "name": "stdout",
     "output_type": "stream",
     "text": [
      "ailax\n",
      "ryn\n",
      "yovy\n",
      "ann\n",
      "ber\n",
      "maharid\n",
      "mariki\n",
      "lija\n",
      "avirtevilxyn\n",
      "lon\n",
      "tio\n",
      "iyah\n",
      "kan\n",
      "mivionen\n",
      "zim\n",
      "jakanna\n",
      "cha\n",
      "dalya\n",
      "adamari\n",
      "masiem\n"
     ]
    }
   ],
   "source": [
    "mlp.eval()\n",
    "for _ in range(20):\n",
    "    out = ['.', '.', '.']\n",
    "    while True:\n",
    "        ix = 0\n",
    "        ctx = torch.tensor([stoi[i] for i in out[-3:]]).reshape(1, 3).to(device=device)\n",
    "        logits, _ = mlp.forward(ctx)\n",
    "        prob = F.softmax(logits, dim=1)\n",
    "        ix = torch.multinomial(prob, 1, replacement=True).item()\n",
    "        if ix == 0:\n",
    "            break\n",
    "        out.append(itos[ix])\n",
    "    print(''.join(out)[3:])"
   ]
  },
  {
   "cell_type": "code",
   "execution_count": 29,
   "metadata": {},
   "outputs": [
    {
     "data": {
      "text/plain": [
       "[<matplotlib.lines.Line2D at 0x34bfa70e0>]"
      ]
     },
     "execution_count": 29,
     "metadata": {},
     "output_type": "execute_result"
    },
    {
     "data": {
      "image/png": "[encoded data removed]",
      "text/plain": [
       "<Figure size 640x480 with 1 Axes>"
      ]
     },
     "metadata": {},
     "output_type": "display_data"
    }
   ],
   "source": [
    "plt.plot(backward_time, label='cpu')\n",
    "plt.plot(mps_backward_time, label='mps')"
   ]
  }
 ],
 "metadata": {
  "kernelspec": {
   "display_name": "Python 3 (ipykernel)",
   "language": "python",
   "name": "python3"
  },
  "language_info": {
   "codemirror_mode": {
    "name": "ipython",
    "version": 3
   },
   "file_extension": ".py",
   "mimetype": "text/x-python",
   "name": "python",
   "nbconvert_exporter": "python",
   "pygments_lexer": "ipython3",
   "version": "3.12.4"
  }
 },
 "nbformat": 4,
 "nbformat_minor": 2
}
