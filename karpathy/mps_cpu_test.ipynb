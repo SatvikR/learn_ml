{
 "cells": [
  {
   "cell_type": "code",
   "execution_count": 8,
   "metadata": {},
   "outputs": [],
   "source": [
    "import time\n",
    "import torch\n",
    "import matplotlib.pyplot as plt\n",
    "%matplotlib inline"
   ]
  },
  {
   "cell_type": "code",
   "execution_count": 9,
   "metadata": {},
   "outputs": [],
   "source": [
    "device = torch.device(\"mps\")"
   ]
  },
  {
   "cell_type": "code",
   "execution_count": 7,
   "metadata": {},
   "outputs": [
    {
     "name": "stdout",
     "output_type": "stream",
     "text": [
      "CPU : --- 0.2019040584564209 seconds ---\n",
      "MPS : --- 0.00019478797912597656 seconds ---\n",
      "mps WINS\n"
     ]
    }
   ],
   "source": [
    "torch.manual_seed(1234)\n",
    "n = 5000\n",
    "TENSOR_A_CPU = torch.rand(n, n)\n",
    "TENSOR_B_CPU = torch.rand(n, n)\n",
    "\n",
    "torch.manual_seed(1234)\n",
    "TENSOR_A_MPS = torch.rand(n, n).to(device)\n",
    "TENSOR_B_MPS = torch.rand(n, n).to(device)\n",
    "\n",
    "# Warm-up\n",
    "for _ in range(100):\n",
    "    torch.matmul(torch.rand(500,500).to(device), torch.rand(500,500).to(device))\n",
    "    \n",
    "start_time = time.time()\n",
    "torch.matmul(TENSOR_A_CPU, TENSOR_B_CPU)\n",
    "cpu_time = time.time() - start_time\n",
    "print(\"CPU : --- %s seconds ---\" % (cpu_time))\n",
    "\n",
    "start_time = time.time()\n",
    "torch.matmul(TENSOR_A_MPS, TENSOR_B_MPS)\n",
    "mps_time = time.time() - start_time\n",
    "print(\"MPS : --- %s seconds ---\" % (mps_time))\n",
    "print(f\"{'mps' if mps_time < cpu_time else 'cpu'} WINS\")"
   ]
  },
  {
   "cell_type": "code",
   "execution_count": 24,
   "metadata": {},
   "outputs": [
    {
     "data": {
      "text/plain": [
       "[<matplotlib.lines.Line2D at 0x12ed52a50>]"
      ]
     },
     "execution_count": 24,
     "metadata": {},
     "output_type": "execute_result"
    },
    {
     "data": {
      "image/png": "[encoded data removed]",
      "text/plain": [
       "<Figure size 640x480 with 1 Axes>"
      ]
     },
     "metadata": {},
     "output_type": "display_data"
    }
   ],
   "source": [
    "cpu_times = []\n",
    "mps_times = []\n",
    "\n",
    "for _ in range(10):\n",
    "    n = 5000\n",
    "    TENSOR_A_CPU = torch.rand(n, n)\n",
    "    TENSOR_B_CPU = torch.rand(n, n)\n",
    "\n",
    "    torch.manual_seed(1234)\n",
    "    TENSOR_A_MPS = torch.rand(n, n).to(device)\n",
    "    TENSOR_B_MPS = torch.rand(n, n).to(device)\n",
    "\n",
    "    start_time = time.time()\n",
    "    torch.matmul(TENSOR_A_CPU, TENSOR_B_CPU)\n",
    "    cpu_time = time.time() - start_time\n",
    "\n",
    "    start_time = time.time()\n",
    "    torch.matmul(TENSOR_A_MPS, TENSOR_B_MPS)\n",
    "    mps_time = time.time() - start_time\n",
    "    cpu_times.append(cpu_time)\n",
    "    mps_times.append(mps_time)\n",
    "\n",
    "plt.plot(cpu_times, label='cpu')\n",
    "plt.plot(mps_times, label='mps')\n"
   ]
  }
 ],
 "metadata": {
  "kernelspec": {
   "display_name": "Python 3 (ipykernel)",
   "language": "python",
   "name": "python3"
  },
  "language_info": {
   "codemirror_mode": {
    "name": "ipython",
    "version": 3
   },
   "file_extension": ".py",
   "mimetype": "text/x-python",
   "name": "python",
   "nbconvert_exporter": "python",
   "pygments_lexer": "ipython3",
   "version": "3.12.4"
  }
 },
 "nbformat": 4,
 "nbformat_minor": 2
}
